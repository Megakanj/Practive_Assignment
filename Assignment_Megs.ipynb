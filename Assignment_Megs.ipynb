{
 "cells": [
  {
   "cell_type": "markdown",
   "id": "3371c87c",
   "metadata": {},
   "source": [
    "s = \"this is My First Python programming class and i am learNING python string and its function\""
   ]
  },
  {
   "cell_type": "markdown",
   "id": "3b31070b",
   "metadata": {},
   "source": [
    "# 1 . Try to extract data from index one to index 30 with a jump of 3 "
   ]
  },
  {
   "cell_type": "code",
   "execution_count": 2,
   "id": "9a67ac06",
   "metadata": {},
   "outputs": [],
   "source": [
    "s = \"this is My First Python programming class and i am learNING python string and its function\""
   ]
  },
  {
   "cell_type": "code",
   "execution_count": 9,
   "id": "b7d4a3bd",
   "metadata": {},
   "outputs": [
    {
     "data": {
      "text/plain": [
       "'h   r tnrr'"
      ]
     },
     "execution_count": 9,
     "metadata": {},
     "output_type": "execute_result"
    }
   ],
   "source": [
    "s[1:30:3]"
   ]
  },
  {
   "cell_type": "markdown",
   "id": "256f6d03",
   "metadata": {},
   "source": [
    "# 2. Try to reverse a string without using reverse function \n"
   ]
  },
  {
   "cell_type": "code",
   "execution_count": 13,
   "id": "e0db2556",
   "metadata": {},
   "outputs": [
    {
     "data": {
      "text/plain": [
       "90"
      ]
     },
     "execution_count": 13,
     "metadata": {},
     "output_type": "execute_result"
    }
   ],
   "source": [
    "len(s)"
   ]
  },
  {
   "cell_type": "code",
   "execution_count": 22,
   "id": "20faa484",
   "metadata": {},
   "outputs": [
    {
     "data": {
      "text/plain": [
       "'noitcnuf sti dna gnirts nohtyp GNINrael ma i dna ssalc gnimmargorp nohtyP tsriF yM si siht'"
      ]
     },
     "execution_count": 22,
     "metadata": {},
     "output_type": "execute_result"
    }
   ],
   "source": [
    "s[-1:-91:-1]"
   ]
  },
  {
   "cell_type": "markdown",
   "id": "67da21fe",
   "metadata": {},
   "source": [
    "# 3. Try to split a string after conversion of entire string in uppercase \n"
   ]
  },
  {
   "cell_type": "code",
   "execution_count": 26,
   "id": "c99d9a0e",
   "metadata": {},
   "outputs": [
    {
     "data": {
      "text/plain": [
       "'THIS IS MY FIRST PYTHON PROGRAMMING CLASS AND I AM LEARNING PYTHON STRING AND ITS FUNCTION'"
      ]
     },
     "execution_count": 26,
     "metadata": {},
     "output_type": "execute_result"
    }
   ],
   "source": [
    "m = s.upper()\n",
    "m\n"
   ]
  },
  {
   "cell_type": "code",
   "execution_count": 32,
   "id": "2d72b995",
   "metadata": {},
   "outputs": [
    {
     "data": {
      "text/plain": [
       "['THIS',\n",
       " 'IS',\n",
       " 'MY',\n",
       " 'FIRST',\n",
       " 'PYTHON',\n",
       " 'PROGRAMMING',\n",
       " 'CLASS',\n",
       " 'AND',\n",
       " 'I',\n",
       " 'AM',\n",
       " 'LEARNING',\n",
       " 'PYTHON',\n",
       " 'STRING',\n",
       " 'AND',\n",
       " 'ITS',\n",
       " 'FUNCTION']"
      ]
     },
     "execution_count": 32,
     "metadata": {},
     "output_type": "execute_result"
    }
   ],
   "source": [
    "m.split(\" \")"
   ]
  },
  {
   "cell_type": "markdown",
   "id": "c5309024",
   "metadata": {},
   "source": [
    "# 4. try to convert the whole string into lower case \n"
   ]
  },
  {
   "cell_type": "code",
   "execution_count": 33,
   "id": "ffde586f",
   "metadata": {},
   "outputs": [
    {
     "data": {
      "text/plain": [
       "'this is my first python programming class and i am learning python string and its function'"
      ]
     },
     "execution_count": 33,
     "metadata": {},
     "output_type": "execute_result"
    }
   ],
   "source": [
    "s.lower()"
   ]
  },
  {
   "cell_type": "markdown",
   "id": "b06c6ded",
   "metadata": {},
   "source": [
    "# 5 . Try to capitalize the whole string \n"
   ]
  },
  {
   "cell_type": "code",
   "execution_count": 39,
   "id": "17613fb2",
   "metadata": {},
   "outputs": [
    {
     "data": {
      "text/plain": [
       "'This is my first python programming class and i am learning python string and its function'"
      ]
     },
     "execution_count": 39,
     "metadata": {},
     "output_type": "execute_result"
    }
   ],
   "source": [
    "s.capitalize()"
   ]
  },
  {
   "cell_type": "markdown",
   "id": "58117539",
   "metadata": {},
   "source": [
    "# 6 . Write a diference between isalnum() and isalpha()"
   ]
  },
  {
   "cell_type": "markdown",
   "id": "4641aaba",
   "metadata": {},
   "source": [
    "isalnum() shows the result for an alphanumeric character whereas it is isalpha() checks for an alphabetic character.\n",
    "\n",
    "If we are running isalpha() function, then in order to have the \"True\" value returned, strings have to have \"letters\" in that. In other words, If we are willing to check the presence of letters in the string by running this function, it will return \"True\" in case of alphabets and \"false\" otherwise.  \n",
    "\n",
    "Likewise, Python isnumeric() function returns \"true\" if all characters in a string are numbers and \"false\" in case of absence of numbers. \n"
   ]
  },
  {
   "cell_type": "markdown",
   "id": "1f87998f",
   "metadata": {},
   "source": [
    "# 7. Try to give an example of expand tab\n"
   ]
  },
  {
   "cell_type": "code",
   "execution_count": 50,
   "id": "6a1af9e1",
   "metadata": {},
   "outputs": [],
   "source": [
    "s = \"xyzyu\\t12345\\tabc\""
   ]
  },
  {
   "cell_type": "code",
   "execution_count": 52,
   "id": "e39ecbbb",
   "metadata": {},
   "outputs": [
    {
     "data": {
      "text/plain": [
       "'xyzyu 12345 abc'"
      ]
     },
     "execution_count": 52,
     "metadata": {},
     "output_type": "execute_result"
    }
   ],
   "source": [
    "s.expandtabs(6)"
   ]
  },
  {
   "cell_type": "markdown",
   "id": "b316f3ed",
   "metadata": {},
   "source": [
    "Explanation: When you set the tabsize to 6. The tab stops are 6, 12, 18 and so on. For 'xyzyu', the tab stop is 6 and for '12345', the tab stop is 12. Hence, there is 1 space after 'xyzyu' and 1 space after '12345'."
   ]
  },
  {
   "cell_type": "markdown",
   "id": "3177fe1f",
   "metadata": {},
   "source": [
    "# 8 . Give an example of strip , lstrip and rstrip \n"
   ]
  },
  {
   "cell_type": "code",
   "execution_count": 79,
   "id": "a5bc8cef",
   "metadata": {},
   "outputs": [],
   "source": [
    "s = \"          this is My First Python programming class and i am learNING python string and its function000000000000     \""
   ]
  },
  {
   "cell_type": "code",
   "execution_count": 80,
   "id": "77a675b0",
   "metadata": {
    "scrolled": true
   },
   "outputs": [
    {
     "data": {
      "text/plain": [
       "'this is My First Python programming class and i am learNING python string and its function000000000000'"
      ]
     },
     "execution_count": 80,
     "metadata": {},
     "output_type": "execute_result"
    }
   ],
   "source": [
    "s.strip()"
   ]
  },
  {
   "cell_type": "code",
   "execution_count": 81,
   "id": "5133ae19",
   "metadata": {},
   "outputs": [
    {
     "data": {
      "text/plain": [
       "'this is My First Python programming class and i am learNING python string and its function000000000000     '"
      ]
     },
     "execution_count": 81,
     "metadata": {},
     "output_type": "execute_result"
    }
   ],
   "source": [
    "s.lstrip()"
   ]
  },
  {
   "cell_type": "code",
   "execution_count": 82,
   "id": "40e0da82",
   "metadata": {},
   "outputs": [
    {
     "data": {
      "text/plain": [
       "'          this is My First Python programming class and i am learNING python string and its function000000000000'"
      ]
     },
     "execution_count": 82,
     "metadata": {},
     "output_type": "execute_result"
    }
   ],
   "source": [
    "s.rstrip()"
   ]
  },
  {
   "cell_type": "markdown",
   "id": "9c90f3e4",
   "metadata": {},
   "source": [
    "# 9.  Replace a string charecter by another charector by taking your own example \n"
   ]
  },
  {
   "cell_type": "code",
   "execution_count": 83,
   "id": "d8e6b026",
   "metadata": {},
   "outputs": [],
   "source": [
    "s = \"Hey!its me Megs\""
   ]
  },
  {
   "cell_type": "code",
   "execution_count": 96,
   "id": "3b6d4ca6",
   "metadata": {
    "scrolled": true
   },
   "outputs": [
    {
     "data": {
      "text/plain": [
       "'Hey!Nts Je Megs'"
      ]
     },
     "execution_count": 96,
     "metadata": {},
     "output_type": "execute_result"
    }
   ],
   "source": [
    "s.replace(\"m\", \"J\")"
   ]
  },
  {
   "cell_type": "code",
   "execution_count": 97,
   "id": "801a9435",
   "metadata": {},
   "outputs": [],
   "source": [
    "index = 4\n"
   ]
  },
  {
   "cell_type": "code",
   "execution_count": 99,
   "id": "301e5345",
   "metadata": {},
   "outputs": [],
   "source": [
    "new_Character = \"Y\""
   ]
  },
  {
   "cell_type": "code",
   "execution_count": 101,
   "id": "cb500427",
   "metadata": {},
   "outputs": [
    {
     "data": {
      "text/plain": [
       "'Hey!Yts me Megs'"
      ]
     },
     "execution_count": 101,
     "metadata": {},
     "output_type": "execute_result"
    }
   ],
   "source": [
    "s[:index] + new_Character + s[index+1:]\n"
   ]
  },
  {
   "cell_type": "markdown",
   "id": "711d9c93",
   "metadata": {},
   "source": [
    "# 10 . Try  to give a defination of string center function with and exmple \n"
   ]
  },
  {
   "cell_type": "markdown",
   "id": "270b7c2b",
   "metadata": {},
   "source": [
    "The center string()center aligns the string, using a specified character as the fill character. We Denote fill character as \"fillchar\"\n",
    "\n"
   ]
  },
  {
   "cell_type": "code",
   "execution_count": 103,
   "id": "684c0021",
   "metadata": {},
   "outputs": [],
   "source": [
    "m = \"Meghakanjwani\""
   ]
  },
  {
   "cell_type": "code",
   "execution_count": 106,
   "id": "4480a9e5",
   "metadata": {},
   "outputs": [
    {
     "data": {
      "text/plain": [
       "'        Meghakanjwani         '"
      ]
     },
     "execution_count": 106,
     "metadata": {},
     "output_type": "execute_result"
    }
   ],
   "source": [
    "m.center(30)"
   ]
  },
  {
   "cell_type": "code",
   "execution_count": 107,
   "id": "13b9af78",
   "metadata": {},
   "outputs": [
    {
     "data": {
      "text/plain": [
       "'HHHHHHMeghakanjwaniHHHHHH'"
      ]
     },
     "execution_count": 107,
     "metadata": {},
     "output_type": "execute_result"
    }
   ],
   "source": [
    "m.center(25, \"H\")"
   ]
  },
  {
   "cell_type": "markdown",
   "id": "79bd65bd",
   "metadata": {},
   "source": [
    "# 11. Write your own definition of compiler and interpretor without copy paste form internet in your own language"
   ]
  },
  {
   "cell_type": "markdown",
   "id": "ee399c3b",
   "metadata": {},
   "source": [
    "Computer programs exist in high-level languages that a human can understand. They can be in the form of phrases and words. Humans can not understand the machine language, likewise computers don't understand these languages as we do. The input that we give, gets comprehended in binary codes for the computer to understand. \n",
    "\n",
    "As a result, we first write a program in a high-level language (source code), convert them into machine language, and make them readable for the computers. Hence, we need interpreters and compilers. The compiler creates the program by analyzing all sorts of the language statements to check if they are correct given by the user. If it finds any error in between, it gives an error message. If there are no errors spotted, the compiler will convert the source code into machine code. \n",
    "\n",
    "On the other side, the interpreter reads each statement of code and then executes it. They translates only one statement at a time of the program. They also create an exe of the programming language before the program runs."
   ]
  },
  {
   "cell_type": "markdown",
   "id": "2077fcd9",
   "metadata": {},
   "source": [
    "# 12. Python is a interpreted of compiled language give a clear ans with your understanding "
   ]
  },
  {
   "cell_type": "markdown",
   "id": "d5470767",
   "metadata": {},
   "source": [
    "In various books of python programming and articles, it is mentioned that python language is interpreted. But as far as one's view matters on this topic, I have found that it is first compiled and then interpreted.The compilation part is hidden from the programmer thus, many programmers believe that it is an interpreted language. The compilation part is done first when we execute our code and this will generate byte code and internally this byte code gets converted by the python virtual machine(p.v.m). Compiled part gets deleted by the python as soon as we execute the code to refrain the programmers from getting into complexity. The edit-test-debug cycle is incredibly fast hence Debugging Python programs is easier than other languages. "
   ]
  },
  {
   "cell_type": "markdown",
   "id": "2966333c",
   "metadata": {},
   "source": [
    "# 13 . Try to write a usecase of python with your understanding .\n"
   ]
  },
  {
   "cell_type": "markdown",
   "id": "a97dce4e",
   "metadata": {},
   "source": [
    "1. Insurance\n",
    "Top use: Creating business insights with machine learning\n",
    "\n",
    "Case study: One American multinational finance and insurance corporation faced competition from smaller companies that were introducing services driven by machine learning. To compete, the insurer allowed teams to develop new applications and services using machine learning; however, with too many sets of data science tools involved, a number of different versions of Python and compatibility issues arose. The company settled on one version of Python to deliver all of the machine learning capabilities needed.\n",
    "\n",
    "2. Retail banking\n",
    "Top use: Flexible data transformation and manipulation\n",
    "\n",
    "Case study: A large American department store chain with an in-store banking arm collects data centrally in a warehouse, and then shares it with multiple applications to enable its supply chain, retail banking, and analytics and reporting needs. While the company standardized on Python for data manipulation, each team created its own version, which created problems. The company decided on a single, standard Python build to increase engineering speed and decrease support costs.\n",
    "\n",
    "3. Aerospace\n",
    "Top use: Meeting software system deadlines\n",
    "\n",
    "Case study: An American multinational aerospace, military, and defense corporation was contracted to provide a number of systems for the International Space Station. While aerospace software focused on critical safety systems is typically written in a language like Ada, those older languages do not lend themselves well to scripting tasks, GUI creation, or data science analysis. Selecting a single Python version offered a larger contract value and no exposure.\n",
    "\n",
    "4. Finance\n",
    "Top use: Data mining identify cross-sell opportunities\n",
    "\n",
    "Case study: An American multinational financial services corporation wanted to mine complex customer and prospect behavioral data as part of a digital transformation project. The company used Python to initiate different data science and machine learning initiatives to examine the structured data it had been collecting for years, and correlated it with unstructured data from the web and social media to increase cross-selling and reclaim resources.\n",
    "\n",
    "5. Business services\n",
    "Top use: API access to financial information\n",
    "\n",
    "Case study: A privately-held financial data and media company had previously provided partners with access to financial information through different electronic resources. Partners wanted to build desktop applications in a variety of languages, including Python, to incorporate the customer’s API directly into their own, and created a Python Software Development Kit (SDK) for their financial information API, leading to increased revenue and customer satisfaction."
   ]
  }
 ],
 "metadata": {
  "kernelspec": {
   "display_name": "Python 3 (ipykernel)",
   "language": "python",
   "name": "python3"
  },
  "language_info": {
   "codemirror_mode": {
    "name": "ipython",
    "version": 3
   },
   "file_extension": ".py",
   "mimetype": "text/x-python",
   "name": "python",
   "nbconvert_exporter": "python",
   "pygments_lexer": "ipython3",
   "version": "3.9.7"
  }
 },
 "nbformat": 4,
 "nbformat_minor": 5
}
