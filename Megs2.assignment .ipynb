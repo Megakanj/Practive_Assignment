{
 "cells": [
  {
   "cell_type": "markdown",
   "id": "ac9e89d5",
   "metadata": {},
   "source": [
    "1) Print ineuron"
   ]
  },
  {
   "cell_type": "code",
   "execution_count": 3,
   "id": "92616d96",
   "metadata": {},
   "outputs": [
    {
     "name": "stdout",
     "output_type": "stream",
     "text": [
      "Ineuron      \n",
      "\n",
      "Ineuron      Ineuron      \n",
      "\n",
      "Ineuron      Ineuron      Ineuron      \n",
      "\n",
      "Ineuron      Ineuron      Ineuron      \n",
      "\n"
     ]
    }
   ],
   "source": [
    "n = 4\n",
    "for i in range (n) :\n",
    "    if i < 3:\n",
    "        for j in range (0, i+1) :\n",
    "            print (\"Ineuron\", end = \"      \")\n",
    "    elif i ==3 :\n",
    "        for j in range (0, i) :\n",
    "            print (\"Ineuron\", end = \"      \")\n",
    "    print (\"\\n\")"
   ]
  },
  {
   "cell_type": "markdown",
   "id": "8b90583b",
   "metadata": {},
   "source": [
    "2) Print ineuron\n"
   ]
  },
  {
   "cell_type": "code",
   "execution_count": 153,
   "id": "1c106844",
   "metadata": {
    "scrolled": true
   },
   "outputs": [
    {
     "name": "stdout",
     "output_type": "stream",
     "text": [
      "     Ineuron      Ineuron    \n",
      "\n",
      "  Ineuron    \n",
      "\n"
     ]
    }
   ],
   "source": [
    "n = 5\n",
    "for i in range (n) :\n",
    "    if i == 1 or i == 5 :\n",
    "            print ( \" \", \"  \", \"Ineuron\", end = \"    \")\n",
    "    elif i ==2 or i==4 :\n",
    "            for j in range (0, i+1) : \n",
    "\n",
    "                print ( \" \",\"Ineuron\", end = \"    \")\n",
    "                print (\"\\n\")"
   ]
  },
  {
   "cell_type": "code",
   "execution_count": 133,
   "id": "caf85f15",
   "metadata": {},
   "outputs": [],
   "source": [
    "l = [[1,2,3,4] , (2,3,4,5,6 ) , (3,4,5,6,7) , set([23,4,5,45,4,4,5,45,4,5]), { 'k1' : \"sudh\", \"k2\" : \"ineuron\", \"k3\" : \"Kumar\" , 3:6 , 7:8} , [\"ineuron\" , \"data science \"]]"
   ]
  },
  {
   "cell_type": "markdown",
   "id": "0acf998f",
   "metadata": {},
   "source": [
    "3) Try to extract all the list entity "
   ]
  },
  {
   "cell_type": "code",
   "execution_count": 2,
   "id": "e3f0dba3",
   "metadata": {},
   "outputs": [],
   "source": [
    "l = [[1,2,3,4] , (2,3,4,5,6 ) , (3,4,5,6,7) , set([23,4,5,45,4,4,5,45,4,5]), { 'k1' : \"sudh\", \"k2\" : \"ineuron\", \"k3\" : \"Kumar\" , 3:6 , 7:8} , [\"ineuron\" , \"data science \"]]"
   ]
  },
  {
   "cell_type": "code",
   "execution_count": 11,
   "id": "edefbc90",
   "metadata": {},
   "outputs": [
    {
     "name": "stdout",
     "output_type": "stream",
     "text": [
      "[1, 2, 3, 4]\n",
      "['ineuron', 'data science ']\n"
     ]
    }
   ],
   "source": [
    "for i in l :\n",
    "        if type(i)==list:\n",
    "            print (i)"
   ]
  },
  {
   "cell_type": "markdown",
   "id": "763ec2e6",
   "metadata": {},
   "source": [
    "4)Try to extract all the dict entity "
   ]
  },
  {
   "cell_type": "code",
   "execution_count": 12,
   "id": "d046dd99",
   "metadata": {},
   "outputs": [
    {
     "name": "stdout",
     "output_type": "stream",
     "text": [
      "{'k1': 'sudh', 'k2': 'ineuron', 'k3': 'Kumar', 3: 6, 7: 8}\n"
     ]
    }
   ],
   "source": [
    "for i in l :\n",
    "        if type(i)==dict:\n",
    "            print (i)"
   ]
  },
  {
   "cell_type": "markdown",
   "id": "c2d42353",
   "metadata": {},
   "source": [
    "4)Try to extract all the tuples entity"
   ]
  },
  {
   "cell_type": "code",
   "execution_count": 13,
   "id": "75bb4e7c",
   "metadata": {},
   "outputs": [
    {
     "name": "stdout",
     "output_type": "stream",
     "text": [
      "(2, 3, 4, 5, 6)\n",
      "(3, 4, 5, 6, 7)\n"
     ]
    }
   ],
   "source": [
    "for i in l :\n",
    "        if type(i)==tuple:\n",
    "            print (i)"
   ]
  },
  {
   "cell_type": "markdown",
   "id": "4d108a1d",
   "metadata": {},
   "source": [
    "5) Try to extract all numerical data"
   ]
  },
  {
   "cell_type": "code",
   "execution_count": 31,
   "id": "95f7a24a",
   "metadata": {},
   "outputs": [
    {
     "name": "stdout",
     "output_type": "stream",
     "text": [
      "1\n",
      "2\n",
      "3\n",
      "4\n",
      "2\n",
      "3\n",
      "4\n",
      "5\n",
      "6\n",
      "3\n",
      "4\n",
      "5\n",
      "6\n",
      "7\n",
      "45\n",
      "4\n",
      "5\n",
      "23\n",
      "3\n",
      "7\n"
     ]
    }
   ],
   "source": [
    "for i in l:\n",
    "    for j in i:\n",
    "        if type(j) == int:\n",
    "            print (j)"
   ]
  },
  {
   "cell_type": "markdown",
   "id": "1a085f56",
   "metadata": {},
   "source": [
    "6) Summation of all the numeric data "
   ]
  },
  {
   "cell_type": "code",
   "execution_count": 28,
   "id": "b3c21df5",
   "metadata": {},
   "outputs": [
    {
     "data": {
      "text/plain": [
       "142"
      ]
     },
     "execution_count": 28,
     "metadata": {},
     "output_type": "execute_result"
    }
   ],
   "source": [
    "ko=[]\n",
    "\n",
    "for i in l:\n",
    "    for j in i:\n",
    "        if type(j)==int:\n",
    "            ko.append(j)\n",
    "sum(ko)        "
   ]
  },
  {
   "cell_type": "markdown",
   "id": "4d348c20",
   "metadata": {},
   "source": [
    "7) Filter out all the odd values out from numeric data which is the part of the list\n"
   ]
  },
  {
   "cell_type": "markdown",
   "id": "decc042f",
   "metadata": {},
   "source": [
    "l = [[1,2,3,4] , (2,3,4,5,6 ) , (3,4,5,6,7) , set([23,4,5,45,4,4,5,45,4,5]), { 'k1' : \"sudh\", \"k2\" : \"ineuron\", \"k3\" : \"Kumar\" , 3:6 , 7:8} , [\"ineuron\" , \"data science \"]]"
   ]
  },
  {
   "cell_type": "code",
   "execution_count": 61,
   "id": "0e64c083",
   "metadata": {},
   "outputs": [
    {
     "name": "stdout",
     "output_type": "stream",
     "text": [
      "1\n",
      "3\n",
      "3\n",
      "5\n",
      "3\n",
      "5\n",
      "7\n",
      "45\n",
      "5\n",
      "23\n",
      "3\n",
      "7\n"
     ]
    }
   ],
   "source": [
    "for i in l:\n",
    "    for j in i:\n",
    "        if type(j) == int and j % 2 != 0 :\n",
    "            print (j)"
   ]
  },
  {
   "cell_type": "markdown",
   "id": "aa1d88cd",
   "metadata": {},
   "source": [
    "8) Extract Ineuron from the data"
   ]
  },
  {
   "cell_type": "code",
   "execution_count": 58,
   "id": "7d306b7a",
   "metadata": {},
   "outputs": [
    {
     "name": "stdout",
     "output_type": "stream",
     "text": [
      "ineuron\n"
     ]
    }
   ],
   "source": [
    "l = [[1,2,3,4] , (2,3,4,5,6 ) , (3,4,5,6,7) , set([23,4,5,45,4,4,5,45,4,5]), { 'k1' : \"sudh\", \"k2\" : \"ineuron\", \"k3\" : \"Kumar\" , 3:6 , 7:8} , [\"ineuron\" , \"data science \"]]\n",
    "for i in l :\n",
    "    for j in i :\n",
    "        if j == \"ineuron\" :\n",
    "            print (j)\n"
   ]
  },
  {
   "cell_type": "markdown",
   "id": "c835ccb9",
   "metadata": {},
   "source": [
    "9) Number of occurance of all the data "
   ]
  },
  {
   "cell_type": "code",
   "execution_count": 67,
   "id": "18bb0204",
   "metadata": {},
   "outputs": [
    {
     "name": "stdout",
     "output_type": "stream",
     "text": [
      "[1, 2, 3, 4] : 1\n",
      "(2, 3, 4, 5, 6) : 1\n",
      "(3, 4, 5, 6, 7) : 1\n",
      "{45, 4, 5, 23} : 1\n",
      "{'k1': 'sudh', 'k2': 'ineuron', 'k3': 'Kumar', 3: 6, 7: 8} : 1\n",
      "['ineuron', 'data science '] : 1\n"
     ]
    }
   ],
   "source": [
    "for i in l :\n",
    "        print (i, \":\", l.count(i))"
   ]
  },
  {
   "cell_type": "markdown",
   "id": "cccc2bc7",
   "metadata": {},
   "source": [
    "10) Extract number of keys in dict element "
   ]
  },
  {
   "cell_type": "code",
   "execution_count": 77,
   "id": "677c9357",
   "metadata": {},
   "outputs": [
    {
     "name": "stdout",
     "output_type": "stream",
     "text": [
      "dict_keys(['k1', 'k2', 'k3', 3, 7])\n"
     ]
    }
   ],
   "source": [
    "for i in l :\n",
    "    if type(i)== dict :\n",
    "        print (i.keys())"
   ]
  },
  {
   "cell_type": "markdown",
   "id": "a7d53c20",
   "metadata": {},
   "source": [
    "11) Filter out all the string data "
   ]
  },
  {
   "cell_type": "code",
   "execution_count": 78,
   "id": "d8648d8f",
   "metadata": {},
   "outputs": [
    {
     "name": "stdout",
     "output_type": "stream",
     "text": [
      "k1\n",
      "k2\n",
      "k3\n",
      "ineuron\n",
      "data science \n"
     ]
    }
   ],
   "source": [
    "for i in l :\n",
    "    for j in i :\n",
    "         if type (j) == str:\n",
    "                print (j)\n",
    "           \n",
    "        "
   ]
  },
  {
   "cell_type": "markdown",
   "id": "5ec11b33",
   "metadata": {},
   "source": [
    "12) Find out alphanum in data "
   ]
  },
  {
   "cell_type": "code",
   "execution_count": 50,
   "id": "dbcca8ac",
   "metadata": {},
   "outputs": [],
   "source": [
    "po=[]\n",
    "\n",
    "for i in l :\n",
    "    for j in i :\n",
    "        po.append(j)\n",
    "           "
   ]
  },
  {
   "cell_type": "code",
   "execution_count": 54,
   "id": "e7ad48ce",
   "metadata": {},
   "outputs": [],
   "source": [
    "mg=[]\n",
    "for i in po:\n",
    "    if type(i)==str:\n",
    "        mg.append(i)\n",
    "        \n",
    "    "
   ]
  },
  {
   "cell_type": "code",
   "execution_count": 55,
   "id": "cdfcc654",
   "metadata": {},
   "outputs": [
    {
     "data": {
      "text/plain": [
       "['k1', 'k2', 'k3', 'ineuron', 'data science ']"
      ]
     },
     "execution_count": 55,
     "metadata": {},
     "output_type": "execute_result"
    }
   ],
   "source": [
    "mg"
   ]
  },
  {
   "cell_type": "code",
   "execution_count": 58,
   "id": "f143437b",
   "metadata": {},
   "outputs": [
    {
     "name": "stdout",
     "output_type": "stream",
     "text": [
      "k1\n",
      "k2\n",
      "k3\n",
      "ineuron\n"
     ]
    }
   ],
   "source": [
    "for i in mg:\n",
    "    if i.isalnum()==True:\n",
    "        print(i)"
   ]
  },
  {
   "cell_type": "code",
   "execution_count": null,
   "id": "ce0d334e",
   "metadata": {},
   "outputs": [],
   "source": []
  },
  {
   "cell_type": "markdown",
   "id": "f1f038b9",
   "metadata": {},
   "source": [
    "13) Find out multiplication of all the numeric value in the individual collection dataset."
   ]
  },
  {
   "cell_type": "code",
   "execution_count": 64,
   "id": "a543d144",
   "metadata": {},
   "outputs": [],
   "source": [
    "ET = []\n",
    "for i in l:\n",
    "    for j in i:\n",
    "        if type (j) == int:\n",
    "            ET.append(j)\n",
    "            \n",
    "            \n",
    "            "
   ]
  },
  {
   "cell_type": "code",
   "execution_count": 65,
   "id": "cdf1263b",
   "metadata": {
    "scrolled": false
   },
   "outputs": [
    {
     "data": {
      "text/plain": [
       "[1, 2, 3, 4, 2, 3, 4, 5, 6, 3, 4, 5, 6, 7, 45, 4, 5, 23, 3, 7]"
      ]
     },
     "execution_count": 65,
     "metadata": {},
     "output_type": "execute_result"
    }
   ],
   "source": [
    "ET"
   ]
  },
  {
   "cell_type": "code",
   "execution_count": 128,
   "id": "13492c30",
   "metadata": {
    "scrolled": false
   },
   "outputs": [
    {
     "ename": "TypeError",
     "evalue": "object of type 'int' has no len()",
     "output_type": "error",
     "traceback": [
      "\u001b[1;31m---------------------------------------------------------------------------\u001b[0m",
      "\u001b[1;31mTypeError\u001b[0m                                 Traceback (most recent call last)",
      "\u001b[1;32m~\\AppData\\Local\\Temp/ipykernel_17484/3448535843.py\u001b[0m in \u001b[0;36m<module>\u001b[1;34m\u001b[0m\n\u001b[0;32m      1\u001b[0m \u001b[0mnum\u001b[0m \u001b[1;33m=\u001b[0m \u001b[1;33m[\u001b[0m\u001b[1;33m]\u001b[0m\u001b[1;33m\u001b[0m\u001b[1;33m\u001b[0m\u001b[0m\n\u001b[0;32m      2\u001b[0m \u001b[1;32mfor\u001b[0m \u001b[0mET\u001b[0m \u001b[1;32min\u001b[0m \u001b[0mrange\u001b[0m \u001b[1;33m(\u001b[0m\u001b[1;36m20\u001b[0m\u001b[1;33m)\u001b[0m\u001b[1;33m:\u001b[0m\u001b[1;33m\u001b[0m\u001b[1;33m\u001b[0m\u001b[0m\n\u001b[1;32m----> 3\u001b[1;33m     \u001b[0mnum\u001b[0m\u001b[1;33m.\u001b[0m\u001b[0mappend\u001b[0m\u001b[1;33m(\u001b[0m\u001b[0mET\u001b[0m \u001b[1;33m*\u001b[0m \u001b[0mlen\u001b[0m\u001b[1;33m(\u001b[0m\u001b[1;36m20\u001b[0m\u001b[1;33m)\u001b[0m\u001b[1;33m)\u001b[0m\u001b[1;33m\u001b[0m\u001b[1;33m\u001b[0m\u001b[0m\n\u001b[0m",
      "\u001b[1;31mTypeError\u001b[0m: object of type 'int' has no len()"
     ]
    }
   ],
   "source": [
    "num = []\n",
    "for ET in range (20):\n"
   ]
  },
  {
   "cell_type": "markdown",
   "id": "6be7a339",
   "metadata": {},
   "source": [
    "14)Unwrap all the collection."
   ]
  },
  {
   "cell_type": "code",
   "execution_count": 121,
   "id": "484f710c",
   "metadata": {},
   "outputs": [],
   "source": [
    "l1=[]\n",
    "for i in l :\n",
    "    if type (l)==list or type (l)== tuple or type (l)== str or type (l)== set :\n",
    "        l1.append(l)  \n"
   ]
  },
  {
   "cell_type": "code",
   "execution_count": 118,
   "id": "2d29666c",
   "metadata": {},
   "outputs": [
    {
     "name": "stdout",
     "output_type": "stream",
     "text": [
      "[1, 2, 3, 4, 2, 3, 4, 5, 6, 3, 4, 5, 6, 7, 45, 4, 5, 23, 'k1', 'k2', 'k3', 3, 7, 'ineuron', 'data science ']\n"
     ]
    }
   ],
   "source": [
    "print (l1)"
   ]
  }
 ],
 "metadata": {
  "kernelspec": {
   "display_name": "Python 3 (ipykernel)",
   "language": "python",
   "name": "python3"
  },
  "language_info": {
   "codemirror_mode": {
    "name": "ipython",
    "version": 3
   },
   "file_extension": ".py",
   "mimetype": "text/x-python",
   "name": "python",
   "nbconvert_exporter": "python",
   "pygments_lexer": "ipython3",
   "version": "3.9.7"
  }
 },
 "nbformat": 4,
 "nbformat_minor": 5
}
